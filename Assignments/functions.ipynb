{
 "cells": [
  {
   "cell_type": "markdown",
   "metadata": {},
   "source": [
    "# EXERCISE 1"
   ]
  },
  {
   "cell_type": "code",
   "execution_count": 5,
   "metadata": {},
   "outputs": [
    {
     "name": "stdout",
     "output_type": "stream",
     "text": [
      "6\n"
     ]
    }
   ],
   "source": [
    "def add_two_numbers():\n",
    "    num_1 = 2\n",
    "    num_2 = 4\n",
    "    total = num_1 + num_2\n",
    "    print(total)\n",
    "add_two_numbers()\n"
   ]
  },
  {
   "cell_type": "code",
   "execution_count": 12,
   "metadata": {},
   "outputs": [
    {
     "data": {
      "text/plain": [
       "314.2"
      ]
     },
     "execution_count": 12,
     "metadata": {},
     "output_type": "execute_result"
    }
   ],
   "source": [
    "def area_of_a_circle():\n",
    "    pi = 3.142\n",
    "    r = 10\n",
    "    area = pi * r **2\n",
    "    return area\n",
    "area_of_a_circle()"
   ]
  },
  {
   "cell_type": "code",
   "execution_count": 16,
   "metadata": {},
   "outputs": [
    {
     "name": "stdout",
     "output_type": "stream",
     "text": [
      "The area is 314.2\n"
     ]
    }
   ],
   "source": [
    "print(f\"The area is {'314.2'}\")"
   ]
  },
  {
   "cell_type": "code",
   "execution_count": 26,
   "metadata": {},
   "outputs": [
    {
     "name": "stdout",
     "output_type": "stream",
     "text": [
      "Sum of two numbers:  264\n"
     ]
    }
   ],
   "source": [
    "def add_all_nums(num1, num2, num3, num4):\n",
    "    add = num1 + num2 + num3 + num4\n",
    "    return add\n",
    "print('Sum of two numbers: ', add_all_nums(56, 45, 76, 87))"
   ]
  },
  {
   "cell_type": "code",
   "execution_count": 28,
   "metadata": {},
   "outputs": [
    {
     "data": {
      "text/plain": [
       "function"
      ]
     },
     "execution_count": 28,
     "metadata": {},
     "output_type": "execute_result"
    }
   ],
   "source": [
    "type(add_all_nums)"
   ]
  },
  {
   "cell_type": "code",
   "execution_count": 30,
   "metadata": {},
   "outputs": [],
   "source": [
    "def check_season(month):\n",
    "    season = ('Autumn', 'Spring', 'Summer', 'Winter')\n",
    "    return season"
   ]
  },
  {
   "cell_type": "code",
   "execution_count": 1,
   "metadata": {},
   "outputs": [
    {
     "data": {
      "text/plain": [
       "'Asabeneh'"
      ]
     },
     "execution_count": 1,
     "metadata": {},
     "output_type": "execute_result"
    }
   ],
   "source": [
    "def print_name(firstname):\n",
    "    return firstname\n",
    "print_name('Asabeneh')"
   ]
  },
  {
   "cell_type": "code",
   "execution_count": 15,
   "metadata": {},
   "outputs": [
    {
     "name": "stdout",
     "output_type": "stream",
     "text": [
      "35.0°C is equal to 95.0°F.\n"
     ]
    }
   ],
   "source": [
    "def convert_celsius_to_fahrenheit(celsius):\n",
    "    \"\"\"\n",
    "    Convert temperature from Celsius to Fahrenheit.\n",
    "    \n",
    "    Parameters:\n",
    "        celsius (float): Temperature in degrees Celsius.\n",
    "        \n",
    "    Returns:\n",
    "        float: Temperature in degrees Fahrenheit.\n",
    "    \"\"\"\n",
    "    fahrenheit = (celsius * 9/5) + 32\n",
    "    return fahrenheit\n",
    "\n",
    "# Example usage\n",
    "if __name__ == \"__main__\":\n",
    "    celsius_temp = float(input(\"Enter temperature in Celsius: \"))\n",
    "    fahrenheit_temp = convert_celsius_to_fahrenheit(celsius_temp)\n",
    "    print(f\"{celsius_temp}°C is equal to {fahrenheit_temp}°F.\")"
   ]
  },
  {
   "cell_type": "code",
   "execution_count": 18,
   "metadata": {},
   "outputs": [
    {
     "name": "stdout",
     "output_type": "stream",
     "text": [
      "The season for may is: Spring\n"
     ]
    }
   ],
   "source": [
    "def check_season(month):\n",
    "    \"\"\"\n",
    "    Determine the season based on the given month.\n",
    "    \n",
    "    Parameters:\n",
    "        month (str): Name of the month (case-insensitive).\n",
    "        \n",
    "    Returns:\n",
    "        str: The season (Autumn, Winter, Spring, or Summer).\n",
    "    \"\"\"\n",
    "    month = month.strip().lower()  # Normalize input to lowercase for comparison\n",
    "\n",
    "    if month in [\"december\", \"january\", \"february\"]:\n",
    "        return \"Winter\"\n",
    "    elif month in [\"march\", \"april\", \"may\"]:\n",
    "        return \"Spring\"\n",
    "    elif month in [\"june\", \"july\", \"august\"]:\n",
    "        return \"Summer\"\n",
    "    elif month in [\"september\", \"october\", \"november\"]:\n",
    "        return \"Autumn\"\n",
    "    else:\n",
    "        return \"Invalid month. Please enter a valid month name.\"\n",
    "\n",
    "if __name__ == \"__main__\":\n",
    "    month_input = input(\"Enter the name of a month: \")\n",
    "    season = check_season(month_input)\n",
    "    print(f\"The season for {month_input} is: {season}\")"
   ]
  },
  {
   "cell_type": "code",
   "execution_count": 23,
   "metadata": {},
   "outputs": [
    {
     "name": "stdout",
     "output_type": "stream",
     "text": [
      "Enter the coordinates of two points to calculate the slope:\n"
     ]
    },
    {
     "ename": "TypeError",
     "evalue": "unsupported operand type(s) for -: 'str' and 'str'",
     "output_type": "error",
     "traceback": [
      "\u001b[1;31m---------------------------------------------------------------------------\u001b[0m",
      "\u001b[1;31mTypeError\u001b[0m                                 Traceback (most recent call last)",
      "Cell \u001b[1;32mIn[23], line 27\u001b[0m\n\u001b[0;32m     24\u001b[0m x2 \u001b[38;5;241m=\u001b[39m (\u001b[38;5;28minput\u001b[39m(\u001b[38;5;124m\"\u001b[39m\u001b[38;5;124mx2: \u001b[39m\u001b[38;5;124m\"\u001b[39m))\n\u001b[0;32m     25\u001b[0m y2 \u001b[38;5;241m=\u001b[39m (\u001b[38;5;28minput\u001b[39m(\u001b[38;5;124m\"\u001b[39m\u001b[38;5;124my2: \u001b[39m\u001b[38;5;124m\"\u001b[39m))\n\u001b[1;32m---> 27\u001b[0m result \u001b[38;5;241m=\u001b[39m \u001b[43mcalculate_slope\u001b[49m\u001b[43m(\u001b[49m\u001b[43mx1\u001b[49m\u001b[43m,\u001b[49m\u001b[43m \u001b[49m\u001b[43my1\u001b[49m\u001b[43m,\u001b[49m\u001b[43m \u001b[49m\u001b[43mx2\u001b[49m\u001b[43m,\u001b[49m\u001b[43m \u001b[49m\u001b[43my2\u001b[49m\u001b[43m)\u001b[49m\n\u001b[0;32m     28\u001b[0m \u001b[38;5;28mprint\u001b[39m(\u001b[38;5;124mf\u001b[39m\u001b[38;5;124m\"\u001b[39m\u001b[38;5;124mThe slope of the line is: \u001b[39m\u001b[38;5;132;01m{\u001b[39;00mresult\u001b[38;5;132;01m}\u001b[39;00m\u001b[38;5;124m\"\u001b[39m)\n",
      "Cell \u001b[1;32mIn[23], line 16\u001b[0m, in \u001b[0;36mcalculate_slope\u001b[1;34m(x1, y1, x2, y2)\u001b[0m\n\u001b[0;32m     14\u001b[0m \u001b[38;5;28;01mif\u001b[39;00m x1 \u001b[38;5;241m==\u001b[39m x2:\n\u001b[0;32m     15\u001b[0m     \u001b[38;5;28;01mreturn\u001b[39;00m \u001b[38;5;124m\"\u001b[39m\u001b[38;5;124mThe slope is undefined (vertical line).\u001b[39m\u001b[38;5;124m\"\u001b[39m\n\u001b[1;32m---> 16\u001b[0m slope \u001b[38;5;241m=\u001b[39m (\u001b[43my2\u001b[49m\u001b[43m \u001b[49m\u001b[38;5;241;43m-\u001b[39;49m\u001b[43m \u001b[49m\u001b[43my1\u001b[49m) \u001b[38;5;241m/\u001b[39m (x2 \u001b[38;5;241m-\u001b[39m x1)\n\u001b[0;32m     17\u001b[0m \u001b[38;5;28;01mreturn\u001b[39;00m slope\n",
      "\u001b[1;31mTypeError\u001b[0m: unsupported operand type(s) for -: 'str' and 'str'"
     ]
    }
   ],
   "source": [
    "def calculate_slope(x1, y1, x2, y2):\n",
    "    \"\"\"\n",
    "    Calculate the slope of a line passing through two points.\n",
    "\n",
    "    Parameters:\n",
    "        x1 (float): x-coordinate of the first point.\n",
    "        y1 (float): y-coordinate of the first point.\n",
    "        x2 (float): x-coordinate of the second point.\n",
    "        y2 (float): y-coordinate of the second point.\n",
    "\n",
    "    Returns:\n",
    "        float: The slope of the line, or a message if the slope is undefined.\n",
    "    \"\"\"\n",
    "    if x1 == x2:\n",
    "        return \"The slope is undefined (vertical line).\"\n",
    "    slope = (y2 - y1) / (x2 - x1)\n",
    "    return slope\n",
    "\n",
    "# Example usage\n",
    "if __name__ == \"__main__\":\n",
    "    print(\"Enter the coordinates of two points to calculate the slope:\")\n",
    "    x1 = (input(\"x1: \"))\n",
    "    y1 = (input(\"y1: \"))\n",
    "    x2 = (input(\"x2: \"))\n",
    "    y2 = (input(\"y2: \"))\n",
    "    \n",
    "    result = calculate_slope(x1, y1, x2, y2)\n",
    "    print(f\"The slope of the line is: {result}\")"
   ]
  },
  {
   "cell_type": "code",
   "execution_count": 25,
   "metadata": {},
   "outputs": [
    {
     "name": "stdout",
     "output_type": "stream",
     "text": [
      "Solve the quadratic equation ax^2 + bx + c = 0\n",
      "The solutions are: No real solutions (discriminant is negative).\n"
     ]
    }
   ],
   "source": [
    "import math\n",
    "\n",
    "def solve_quadratic_eqn(a, b, c):\n",
    "    \"\"\"\n",
    "    Solve the quadratic equation ax^2 + bx + c = 0.\n",
    "    \n",
    "    Parameters:\n",
    "        a (float): Coefficient of x^2.\n",
    "        b (float): Coefficient of x.\n",
    "        c (float): Constant term.\n",
    "        \n",
    "    Returns:\n",
    "        tuple or str: Solution set (two solutions, one solution, or no real solution).\n",
    "    \"\"\"\n",
    "    if a == 0:\n",
    "        return \"This is not a quadratic equation (a cannot be zero).\"\n",
    "    \n",
    "    # Calculate the discriminant\n",
    "    discriminant = b**2 - 4*a*c\n",
    "    \n",
    "    if discriminant > 0:\n",
    "        # Two distinct real roots\n",
    "        root1 = (-b + math.sqrt(discriminant)) / (2 * a)\n",
    "        root2 = (-b - math.sqrt(discriminant)) / (2 * a)\n",
    "        return root1, root2\n",
    "    elif discriminant == 0:\n",
    "        # One real root\n",
    "        root = -b / (2 * a)\n",
    "        return root,\n",
    "    else:\n",
    "        # No real roots\n",
    "        return \"No real solutions (discriminant is negative).\"\n",
    "\n",
    "# Example usage\n",
    "if __name__ == \"__main__\":\n",
    "    print(\"Solve the quadratic equation ax^2 + bx + c = 0\")\n",
    "    a = float(input(\"Enter coefficient a: \"))\n",
    "    b = float(input(\"Enter coefficient b: \"))\n",
    "    c = float(input(\"Enter constant c: \"))\n",
    "    \n",
    "    solutions = solve_quadratic_eqn(a, b, c)\n",
    "    print(f\"The solutions are: {solutions}\")"
   ]
  },
  {
   "cell_type": "code",
   "execution_count": 34,
   "metadata": {},
   "outputs": [],
   "source": [
    "def print_list(students):\n",
    "    students = ['abdul', 'isah', 'musa']\n",
    "    for student in students:\n",
    "        print(student)\n",
    "    sample_list = ['audu', 'musa', 'isah']\n",
    "    print(\"printing list of students\")\n",
    "    print_list(sample_list)"
   ]
  },
  {
   "cell_type": "code",
   "execution_count": 36,
   "metadata": {},
   "outputs": [
    {
     "name": "stdout",
     "output_type": "stream",
     "text": [
      "Printing elements of the list:\n",
      "1\n",
      "2\n",
      "3\n",
      "hello\n",
      "True\n",
      "4.5\n"
     ]
    }
   ],
   "source": [
    "def print_list(lists):\n",
    "    \"\"\"\n",
    "    Print each element in a given list.\n",
    "\n",
    "    Parameters:\n",
    "        elements (list): The list of elements to be printed.\n",
    "    \"\"\"\n",
    "    for list in lists:\n",
    "        print(list)\n",
    "\n",
    "# Example usage\n",
    "if __name__ == \"__main__\":\n",
    "    sample_list = [1, 2, 3, \"hello\", True, 4.5]\n",
    "    print(\"Printing elements of the list:\")\n",
    "    print_list(sample_list)"
   ]
  },
  {
   "cell_type": "code",
   "execution_count": 37,
   "metadata": {},
   "outputs": [
    {
     "name": "stdout",
     "output_type": "stream",
     "text": [
      "Original array: [1, 2, 3, 4, 5]\n",
      "Reversed array: [5, 4, 3, 2, 1]\n"
     ]
    }
   ],
   "source": [
    "def reverse_list(arr):\n",
    "    \"\"\"\n",
    "    Reverse a given array using a loop.\n",
    "\n",
    "    Parameters:\n",
    "        arr (list): The array to be reversed.\n",
    "\n",
    "    Returns:\n",
    "        list: The reversed array.\n",
    "    \"\"\"\n",
    "    reversed_arr = []\n",
    "    for i in range(len(arr) - 1, -1, -1):  # Loop from the last index to the first\n",
    "        reversed_arr.append(arr[i])\n",
    "    return reversed_arr\n",
    "\n",
    "# Example usage\n",
    "if __name__ == \"__main__\":\n",
    "    sample_array = [1, 2, 3, 4, 5]\n",
    "    print(\"Original array:\", sample_array)\n",
    "    print(\"Reversed array:\", reverse_list(sample_array))"
   ]
  },
  {
   "cell_type": "code",
   "execution_count": 44,
   "metadata": {},
   "outputs": [
    {
     "name": "stdout",
     "output_type": "stream",
     "text": [
      "printing elements of a list\n",
      "MUSA\n",
      "ISAH\n",
      "AUDU\n"
     ]
    }
   ],
   "source": [
    "def capitalize_list_items(lists):\n",
    "    for list in lists:\n",
    "        print(list.upper())\n",
    "if __name__ == \"__main__\":\n",
    "    sample_list = ['musa', 'isah', 'audu']\n",
    "    print('printing elements of a list')\n",
    "    capitalize_list_items(sample_list)\n",
    "        "
   ]
  },
  {
   "cell_type": "code",
   "execution_count": 48,
   "metadata": {},
   "outputs": [
    {
     "name": "stdout",
     "output_type": "stream",
     "text": [
      "Original list: [1, 2, 3]\n",
      "Updated list: [1, 2, 3, ('potato', 'yam')]\n"
     ]
    }
   ],
   "source": [
    "def add_item(lst, item):\n",
    "    \"\"\"\n",
    "    Add an item to the end of the list.\n",
    "\n",
    "    Parameters:\n",
    "        lst (list): The original list.\n",
    "        item (any): The item to be added.\n",
    "\n",
    "    Returns:\n",
    "        list: The updated list with the item added.\n",
    "    \"\"\"\n",
    "    lst.append(item)\n",
    "    return lst\n",
    "\n",
    "# Example usage\n",
    "if __name__ == \"__main__\":\n",
    "    sample_list = [1, 2, 3]\n",
    "    new_item = 'potato', 'yam'\n",
    "    print(\"Original list:\", sample_list)\n",
    "    updated_list = add_item(sample_list, new_item)\n",
    "    print(\"Updated list:\", updated_list)"
   ]
  },
  {
   "cell_type": "code",
   "execution_count": 52,
   "metadata": {},
   "outputs": [
    {
     "name": "stdout",
     "output_type": "stream",
     "text": [
      "Original list: [1, 2, 3, 4, 5]\n",
      "Updated list: [1, 2, 4, 5]\n"
     ]
    }
   ],
   "source": [
    "def remove_item(lst, item):\n",
    "    \"\"\"\n",
    "    Remove an item from the list.\n",
    "\n",
    "    Parameters:\n",
    "        lst (list): The original list.\n",
    "        item (any): The item to be removed.\n",
    "\n",
    "    Returns:\n",
    "        list: The updated list with the item removed.\n",
    "    \"\"\"\n",
    "    if item in lst:\n",
    "        lst.remove(item)\n",
    "    return lst\n",
    "\n",
    "# Example usage\n",
    "if __name__ == \"__main__\":\n",
    "    sample_list = [1, 2, 3, 4, 5]\n",
    "    item_to_remove = 3\n",
    "    print(\"Original list:\", sample_list)\n",
    "    updated_list = remove_item(sample_list, item_to_remove)\n",
    "    print(\"Updated list:\", updated_list)"
   ]
  },
  {
   "cell_type": "code",
   "execution_count": 59,
   "metadata": {},
   "outputs": [
    {
     "name": "stdout",
     "output_type": "stream",
     "text": [
      "15\n",
      "55\n",
      "5050\n"
     ]
    }
   ],
   "source": [
    "def sum_of_numbers(n):\n",
    "    \"\"\"\n",
    "    Calculate the sum of all numbers from 1 to n (inclusive).\n",
    "\n",
    "    Parameters:\n",
    "        n (int): The number up to which the sum will be calculated.\n",
    "\n",
    "    Returns:\n",
    "        int: The sum of all numbers in the range.\n",
    "    \"\"\"\n",
    "    total = 0\n",
    "    for i in range(1, n + 1):  \n",
    "        total += i\n",
    "    return total\n",
    "\n",
    "# Example usage\n",
    "if __name__ == \"__main__\":\n",
    "    number = 10\n",
    "    print(sum_of_numbers(5)) \n",
    "    print(sum_of_numbers(10)) \n",
    "    print(sum_of_numbers(100))"
   ]
  },
  {
   "cell_type": "code",
   "execution_count": 58,
   "metadata": {},
   "outputs": [
    {
     "name": "stdout",
     "output_type": "stream",
     "text": [
      "The sum of odd numbers from 1 to 10 is 25.\n"
     ]
    }
   ],
   "source": [
    "def sum_of_odds(n):\n",
    "    \"\"\"\n",
    "    Calculate the sum of all odd numbers from 1 to n (inclusive).\n",
    "\n",
    "    Parameters:\n",
    "        n (int): The upper limit of the range (inclusive).\n",
    "\n",
    "    Returns:\n",
    "        int: The sum of all odd numbers in the range.\n",
    "    \"\"\"\n",
    "    total = 0\n",
    "    for i in range(1, n + 1):  # Loop from 1 to n (inclusive)\n",
    "        if i % 2 != 0:  # Check if the number is odd\n",
    "            total += i\n",
    "    return total\n",
    "\n",
    "# Example usage\n",
    "if __name__ == \"__main__\":\n",
    "    number = 10\n",
    "    print(f\"The sum of odd numbers from 1 to {number} is {sum_of_odds(number)}.\")"
   ]
  },
  {
   "cell_type": "code",
   "execution_count": 62,
   "metadata": {},
   "outputs": [
    {
     "name": "stdout",
     "output_type": "stream",
     "text": [
      "The sum of even numbers from 1 to 20 is 110.\n"
     ]
    }
   ],
   "source": [
    "def sum_of_evens(n):\n",
    "    \"\"\"\n",
    "    Calculate the sum of all odd numbers from 1 to n (inclusive).\n",
    "\n",
    "    Parameters:\n",
    "        n (int): The upper limit of the range (inclusive).\n",
    "\n",
    "    Returns:\n",
    "        int: The sum of all odd numbers in the range.\n",
    "    \"\"\"\n",
    "    total = 0\n",
    "    for i in range(1, n + 1):  # Loop from 1 to n (inclusive)\n",
    "        if i % 2 == 0:  # Check if the number is odd\n",
    "            total += i\n",
    "    return total\n",
    "\n",
    "# Example usage\n",
    "if __name__ == \"__main__\":\n",
    "    number = 20\n",
    "    print(f\"The sum of even numbers from 1 to {number} is {sum_of_evens(number)}.\")"
   ]
  },
  {
   "cell_type": "markdown",
   "metadata": {},
   "source": [
    "# EXERCISES LEVEL_2"
   ]
  },
  {
   "cell_type": "code",
   "execution_count": 66,
   "metadata": {},
   "outputs": [
    {
     "name": "stdout",
     "output_type": "stream",
     "text": [
      "In the number 12845690:\n",
      "Even digits: 5\n",
      "Odd digits: 3\n"
     ]
    }
   ],
   "source": [
    "def evens_and_odds(number):\n",
    "    \"\"\"\n",
    "    Count the number of even and odd digits in a positive integer.\n",
    "\n",
    "    Parameters:\n",
    "        number (int): A positive integer.\n",
    "\n",
    "    Returns:\n",
    "        dict: A dictionary with counts of evens and odds.\n",
    "    \"\"\"\n",
    "    evens = 0\n",
    "    odds = 0\n",
    "\n",
    "    for digit in str(number):  # Convert the number to a string to iterate over its digits\n",
    "        if int(digit) % 2 == 0:  # Check if the digit is even\n",
    "            evens += 1\n",
    "        else:  # Otherwise, it is odd\n",
    "            odds += 1\n",
    "\n",
    "    return {\"evens\": evens, \"odds\": odds}\n",
    "\n",
    "# Example usage\n",
    "if __name__ == \"__main__\":\n",
    "    number = 12845690\n",
    "    result = evens_and_odds(number)\n",
    "    print(f\"In the number {number}:\")\n",
    "    print(f\"Even digits: {result['evens']}\")\n",
    "    print(f\"Odd digits: {result['odds']}\")"
   ]
  },
  {
   "cell_type": "code",
   "execution_count": 67,
   "metadata": {},
   "outputs": [
    {
     "name": "stdout",
     "output_type": "stream",
     "text": [
      "The factorial of 4 is 24\n"
     ]
    }
   ],
   "source": [
    "def factorial(number):\n",
    "    \"\"\"\n",
    "    Calculate the factorial of a given whole number.\n",
    "\n",
    "    Parameters:\n",
    "        number (int): A whole number whose factorial is to be calculated.\n",
    "\n",
    "    Returns:\n",
    "        int: The factorial of the given number.\n",
    "        str: Error message if the input is invalid.\n",
    "    \"\"\"\n",
    "    if not isinstance(number, int) or number < 0:\n",
    "        return \"Please provide a non-negative integer.\"\n",
    "\n",
    "    result = 1\n",
    "    for i in range(1, number + 1):\n",
    "        result *= i\n",
    "    return result\n",
    "\n",
    "# Example usage\n",
    "if __name__ == \"__main__\":\n",
    "    try:\n",
    "        user_input = int(input(\"Enter a non-negative integer to calculate its factorial: \"))\n",
    "        print(f\"The factorial of {user_input} is {factorial(user_input)}\")\n",
    "    except ValueError:\n",
    "        print(\"Invalid input. Please enter a whole number.\")"
   ]
  },
  {
   "cell_type": "code",
   "execution_count": 68,
   "metadata": {},
   "outputs": [
    {
     "name": "stdout",
     "output_type": "stream",
     "text": [
      "True\n",
      "False\n",
      "True\n",
      "False\n",
      "True\n",
      "False\n"
     ]
    }
   ],
   "source": [
    "def is_empty(param):\n",
    "    \"\"\"\n",
    "    Check if the provided parameter is empty or not.\n",
    "\n",
    "    Parameters:\n",
    "        param: Can be a string, list, dictionary, tuple, or any other object.\n",
    "\n",
    "    Returns:\n",
    "        bool: True if the parameter is empty, False otherwise.\n",
    "    \"\"\"\n",
    "    if param:\n",
    "        return False  # The parameter is not empty\n",
    "    else:\n",
    "        return True  # The parameter is empty\n",
    "\n",
    "# Example usage\n",
    "if __name__ == \"__main__\":\n",
    "    # Test cases\n",
    "    print(is_empty(\"\"))  # True (Empty string)\n",
    "    print(is_empty([1, 2, 3]))  # False (Non-empty list)\n",
    "    print(is_empty([]))  # True (Empty list)\n",
    "    print(is_empty(\"Hello\"))  # False (Non-empty string)\n",
    "    print(is_empty({}))  # True (Empty dictionary)\n",
    "    print(is_empty({\"key\": \"value\"}))  # False (Non-empty dictionary)\n"
   ]
  },
  {
   "cell_type": "code",
   "execution_count": 69,
   "metadata": {},
   "outputs": [
    {
     "name": "stdout",
     "output_type": "stream",
     "text": [
      "Mean: 20.0\n",
      "Median: 20\n",
      "Mode: [20]\n",
      "Range: 20\n",
      "Variance: 35.714285714285715\n",
      "Standard Deviation: 5.976143046671968\n"
     ]
    }
   ],
   "source": [
    "import math\n",
    "from collections import Counter\n",
    "\n",
    "# Function to calculate mean\n",
    "def calculate_mean(numbers):\n",
    "    \"\"\"\n",
    "    Calculate the mean (average) of a list of numbers.\n",
    "\n",
    "    Parameters:\n",
    "        numbers (list): A list of numeric values.\n",
    "\n",
    "    Returns:\n",
    "        float: The mean of the list.\n",
    "    \"\"\"\n",
    "    if not numbers:\n",
    "        return \"List is empty\"\n",
    "    return sum(numbers) / len(numbers)\n",
    "\n",
    "# Function to calculate median\n",
    "def calculate_median(numbers):\n",
    "    \"\"\"\n",
    "    Calculate the median of a list of numbers.\n",
    "\n",
    "    Parameters:\n",
    "        numbers (list): A list of numeric values.\n",
    "\n",
    "    Returns:\n",
    "        float: The median of the list.\n",
    "    \"\"\"\n",
    "    if not numbers:\n",
    "        return \"List is empty\"\n",
    "    sorted_numbers = sorted(numbers)\n",
    "    n = len(sorted_numbers)\n",
    "    if n % 2 == 1:\n",
    "        return sorted_numbers[n // 2]\n",
    "    else:\n",
    "        return (sorted_numbers[n // 2 - 1] + sorted_numbers[n // 2]) / 2\n",
    "\n",
    "# Function to calculate mode\n",
    "def calculate_mode(numbers):\n",
    "    \"\"\"\n",
    "    Calculate the mode (most frequent value) of a list of numbers.\n",
    "\n",
    "    Parameters:\n",
    "        numbers (list): A list of numeric values.\n",
    "\n",
    "    Returns:\n",
    "        list: The mode(s) of the list.\n",
    "    \"\"\"\n",
    "    if not numbers:\n",
    "        return \"List is empty\"\n",
    "    count = Counter(numbers)\n",
    "    max_count = max(count.values())\n",
    "    mode = [key for key, value in count.items() if value == max_count]\n",
    "    return mode\n",
    "\n",
    "# Function to calculate range\n",
    "def calculate_range(numbers):\n",
    "    \"\"\"\n",
    "    Calculate the range (difference between max and min) of a list of numbers.\n",
    "\n",
    "    Parameters:\n",
    "        numbers (list): A list of numeric values.\n",
    "\n",
    "    Returns:\n",
    "        float: The range of the list.\n",
    "    \"\"\"\n",
    "    if not numbers:\n",
    "        return \"List is empty\"\n",
    "    return max(numbers) - min(numbers)\n",
    "\n",
    "# Function to calculate variance\n",
    "def calculate_variance(numbers):\n",
    "    \"\"\"\n",
    "    Calculate the variance of a list of numbers.\n",
    "\n",
    "    Parameters:\n",
    "        numbers (list): A list of numeric values.\n",
    "\n",
    "    Returns:\n",
    "        float: The variance of the list.\n",
    "    \"\"\"\n",
    "    if not numbers:\n",
    "        return \"List is empty\"\n",
    "    mean = calculate_mean(numbers)\n",
    "    return sum((x - mean) ** 2 for x in numbers) / len(numbers)\n",
    "\n",
    "# Function to calculate standard deviation\n",
    "def calculate_std(numbers):\n",
    "    \"\"\"\n",
    "    Calculate the standard deviation of a list of numbers.\n",
    "\n",
    "    Parameters:\n",
    "        numbers (list): A list of numeric values.\n",
    "\n",
    "    Returns:\n",
    "        float: The standard deviation of the list.\n",
    "    \"\"\"\n",
    "    if not numbers:\n",
    "        return \"List is empty\"\n",
    "    variance = calculate_variance(numbers)\n",
    "    return math.sqrt(variance)\n",
    "\n",
    "# Example usage\n",
    "if __name__ == \"__main__\":\n",
    "    numbers = [10, 15, 20, 25, 30, 20, 20]\n",
    "\n",
    "    print(f\"Mean: {calculate_mean(numbers)}\")\n",
    "    print(f\"Median: {calculate_median(numbers)}\")\n",
    "    print(f\"Mode: {calculate_mode(numbers)}\")\n",
    "    print(f\"Range: {calculate_range(numbers)}\")\n",
    "    print(f\"Variance: {calculate_variance(numbers)}\")\n",
    "    print(f\"Standard Deviation: {calculate_std(numbers)}\")\n"
   ]
  },
  {
   "cell_type": "markdown",
   "metadata": {},
   "source": [
    "# EXERCISE LEVEL_3"
   ]
  },
  {
   "cell_type": "code",
   "execution_count": 70,
   "metadata": {},
   "outputs": [
    {
     "name": "stdout",
     "output_type": "stream",
     "text": [
      "1 is prime: False\n",
      "2 is prime: True\n",
      "3 is prime: True\n",
      "4 is prime: False\n",
      "5 is prime: True\n",
      "16 is prime: False\n",
      "17 is prime: True\n",
      "18 is prime: False\n",
      "19 is prime: True\n",
      "20 is prime: False\n"
     ]
    }
   ],
   "source": [
    "def is_prime(num):\n",
    "    \"\"\"\n",
    "    Check if a number is prime.\n",
    "\n",
    "    Parameters:\n",
    "        num (int): The number to check.\n",
    "\n",
    "    Returns:\n",
    "        bool: True if the number is prime, False otherwise.\n",
    "    \"\"\"\n",
    "    # Check if the number is less than 2, which is not prime\n",
    "    if num < 2:\n",
    "        return False\n",
    "\n",
    "    # Check divisibility from 2 to the square root of num\n",
    "    for i in range(2, int(num**0.5) + 1):\n",
    "        if num % i == 0:  # If num is divisible by any number, it's not prime\n",
    "            return False\n",
    "\n",
    "    return True  # The number is prime if it is not divisible by any number\n",
    "\n",
    "# Example usage\n",
    "if __name__ == \"__main__\":\n",
    "    # Test cases\n",
    "    test_numbers = [1, 2, 3, 4, 5, 16, 17, 18, 19, 20]\n",
    "    for number in test_numbers:\n",
    "        print(f\"{number} is prime: {is_prime(number)}\")\n"
   ]
  },
  {
   "cell_type": "code",
   "execution_count": 72,
   "metadata": {},
   "outputs": [
    {
     "name": "stdout",
     "output_type": "stream",
     "text": [
      "List: [1, 2, 3, 4, 5] - All items unique: True\n",
      "List: [1, 2, 2, 3, 4] - All items unique: False\n",
      "List: ['a', 'b', 'c', 'd'] - All items unique: True\n",
      "List: ['apple', 'banana', 'apple'] - All items unique: False\n"
     ]
    }
   ],
   "source": [
    "def are_items_unique(lst):\n",
    "    \"\"\"\n",
    "    Check if all items in a list are unique.\n",
    "\n",
    "    Parameters:\n",
    "        lst (list): The list of items.\n",
    "\n",
    "    Returns:\n",
    "        bool: True if all items are unique, False if there are duplicates.\n",
    "    \"\"\"\n",
    "    # Convert the list to a set, which removes duplicates, and compare its length to the original list's length\n",
    "    return len(lst) == len(set(lst))\n",
    "\n",
    "# Example usage\n",
    "if __name__ == \"__main__\":\n",
    "    # Test cases\n",
    "    test_lists = [\n",
    "        [1, 2, 3, 4, 5],    # Unique items\n",
    "        [1, 2, 2, 3, 4],    # Duplicate (2)\n",
    "        ['a', 'b', 'c', 'd'],  # Unique items\n",
    "        ['apple', 'banana', 'apple']  # Duplicate ('apple')\n",
    "    ]\n",
    "    \n",
    "    for test_list in test_lists:\n",
    "        print(f\"List: {test_list} - All items unique: {are_items_unique(test_list)}\")\n"
   ]
  },
  {
   "cell_type": "code",
   "execution_count": 74,
   "metadata": {},
   "outputs": [
    {
     "name": "stdout",
     "output_type": "stream",
     "text": [
      "List: [1, 2, 3, 4] - All items same type: True\n",
      "List: [1, '2', 3, 4] - All items same type: False\n",
      "List: ['apple', 'banana', 'cherry'] - All items same type: True\n",
      "List: [True, False, True] - All items same type: True\n",
      "List: [3.14, 2.71, 1.41] - All items same type: True\n",
      "List: [] - All items same type: True\n"
     ]
    }
   ],
   "source": [
    "def are_items_same_type(lst):\n",
    "    \"\"\"\n",
    "    Check if all items in a list are of the same data type.\n",
    "\n",
    "    Parameters:\n",
    "        lst (list): The list of items.\n",
    "\n",
    "    Returns:\n",
    "        bool: True if all items are of the same data type, False otherwise.\n",
    "    \"\"\"\n",
    "    # Check if the list is empty (no items, so considered true for same data type)\n",
    "    if not lst:\n",
    "        return True\n",
    "    \n",
    "    # Get the type of the first item in the list\n",
    "    first_item_type = type(lst[0])\n",
    "\n",
    "    # Check if all items have the same type as the first item\n",
    "    for item in lst:\n",
    "        if type(item) != first_item_type:\n",
    "            return False\n",
    "    \n",
    "    return True\n",
    "\n",
    "# Example usage\n",
    "if __name__ == \"__main__\":\n",
    "    # Test cases\n",
    "    test_lists = [\n",
    "        [1, 2, 3, 4],       # Same data type (int)\n",
    "        [1, '2', 3, 4],     # Different data types (int and str)\n",
    "        ['apple', 'banana', 'cherry'],  # Same data type (str)\n",
    "        [True, False, True],  # Same data type (bool)\n",
    "        [3.14, 2.71, 1.41],  # Same data type (float)\n",
    "        []  # Empty list (considered as same type)\n",
    "    ]\n",
    "    \n",
    "    for test_list in test_lists:\n",
    "        print(f\"List: {test_list} - All items same type: {are_items_same_type(test_list)}\")\n"
   ]
  },
  {
   "cell_type": "code",
   "execution_count": 76,
   "metadata": {},
   "outputs": [
    {
     "name": "stdout",
     "output_type": "stream",
     "text": [
      "'valid_var' is a valid Python variable: True\n",
      "'123invalid' is a valid Python variable: False\n",
      "'if' is a valid Python variable: False\n",
      "'my_variable' is a valid Python variable: True\n",
      "'_valid_var' is a valid Python variable: True\n",
      "'another-valid' is a valid Python variable: False\n"
     ]
    }
   ],
   "source": [
    "import keyword\n",
    "\n",
    "def is_valid_variable(variable):\n",
    "    \"\"\"\n",
    "    Check if the provided variable is a valid Python variable name.\n",
    "\n",
    "    Parameters:\n",
    "        variable (str): The variable name to check.\n",
    "\n",
    "    Returns:\n",
    "        bool: True if the variable is valid, False otherwise.\n",
    "    \"\"\"\n",
    "    # Check if the variable is a string and it is a valid identifier\n",
    "    if isinstance(variable, str) and variable.isidentifier():\n",
    "        # Check if the variable is not a Python reserved keyword\n",
    "        if variable not in keyword.kwlist:\n",
    "            return True\n",
    "    return False\n",
    "\n",
    "# Example usage\n",
    "if __name__ == \"__main__\":\n",
    "    # Test cases\n",
    "    test_variables = [\n",
    "        \"valid_var\",      # Valid variable\n",
    "        \"123invalid\",     # Invalid (starts with a number)\n",
    "        \"if\",             # Invalid (reserved keyword)\n",
    "        \"my_variable\",    # Valid variable\n",
    "        \"_valid_var\",     # Valid variable\n",
    "        \"another-valid\"   # Invalid (contains hyphen)\n",
    "    ]\n",
    "    \n",
    "    for var in test_variables:\n",
    "        print(f\"'{var}' is a valid Python variable: {is_valid_variable(var)}\")\n"
   ]
  },
  {
   "cell_type": "code",
   "execution_count": null,
   "metadata": {},
   "outputs": [],
   "source": []
  }
 ],
 "metadata": {
  "kernelspec": {
   "display_name": "Python 3",
   "language": "python",
   "name": "python3"
  },
  "language_info": {
   "codemirror_mode": {
    "name": "ipython",
    "version": 3
   },
   "file_extension": ".py",
   "mimetype": "text/x-python",
   "name": "python",
   "nbconvert_exporter": "python",
   "pygments_lexer": "ipython3",
   "version": "3.13.0"
  }
 },
 "nbformat": 4,
 "nbformat_minor": 2
}
