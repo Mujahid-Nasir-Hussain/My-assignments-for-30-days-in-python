{
 "cells": [
  {
   "cell_type": "markdown",
   "metadata": {},
   "source": [
    "# DICTIONARIES\n",
    "# EXERCISES- MODULE_SIX"
   ]
  },
  {
   "cell_type": "code",
   "execution_count": 16,
   "metadata": {},
   "outputs": [
    {
     "name": "stdout",
     "output_type": "stream",
     "text": [
      "{}\n"
     ]
    }
   ],
   "source": [
    "dog = {}\n",
    "print(dog)"
   ]
  },
  {
   "cell_type": "code",
   "execution_count": 17,
   "metadata": {},
   "outputs": [
    {
     "data": {
      "text/plain": [
       "dict"
      ]
     },
     "execution_count": 17,
     "metadata": {},
     "output_type": "execute_result"
    }
   ],
   "source": [
    "type(dog)"
   ]
  },
  {
   "cell_type": "code",
   "execution_count": 4,
   "metadata": {},
   "outputs": [
    {
     "name": "stdout",
     "output_type": "stream",
     "text": [
      "{'color': 'Red', 'breed': 'german', 'legs': 4, 'age': '10_years'}\n"
     ]
    }
   ],
   "source": [
    "dog = {'color': 'Red', 'breed': 'german', 'legs': 4, 'age': '10_years'}\n",
    "print(dog)"
   ]
  },
  {
   "cell_type": "code",
   "execution_count": 25,
   "metadata": {},
   "outputs": [
    {
     "name": "stdout",
     "output_type": "stream",
     "text": [
      "{'first_name': 'mujahid', 'last_name': 'nasir', 'gender': 'male', 'age': 26, 'marital status': 'single', 'skills': ['python', 'spss'], 'country': 'nigeria', 'city': 'kano', 'address': 'mariri'}\n"
     ]
    }
   ],
   "source": [
    "student = {'first_name': 'mujahid', 'last_name': 'nasir', 'gender':'male', 'age': 26, 'marital status': 'single', 'skills': ['python', 'spss'],  'country': 'nigeria', 'city': 'kano', 'address': 'mariri'}\n",
    "print(student)"
   ]
  },
  {
   "cell_type": "code",
   "execution_count": 26,
   "metadata": {},
   "outputs": [
    {
     "data": {
      "text/plain": [
       "9"
      ]
     },
     "execution_count": 26,
     "metadata": {},
     "output_type": "execute_result"
    }
   ],
   "source": [
    "len(student)"
   ]
  },
  {
   "cell_type": "code",
   "execution_count": 28,
   "metadata": {},
   "outputs": [
    {
     "name": "stdout",
     "output_type": "stream",
     "text": [
      "dict_keys(['first_name', 'last_name', 'gender', 'age', 'marital status', 'skills', 'country', 'city', 'address'])\n"
     ]
    }
   ],
   "source": [
    "keys = student.keys()\n",
    "print(keys)"
   ]
  },
  {
   "cell_type": "code",
   "execution_count": 30,
   "metadata": {},
   "outputs": [
    {
     "name": "stdout",
     "output_type": "stream",
     "text": [
      "dict_values(['mujahid', 'nasir', 'male', 26, 'single', ['python', 'spss'], 'nigeria', 'kano', 'mariri'])\n"
     ]
    }
   ],
   "source": [
    "values = student.values()\n",
    "print(values)"
   ]
  },
  {
   "cell_type": "code",
   "execution_count": 33,
   "metadata": {},
   "outputs": [
    {
     "name": "stdout",
     "output_type": "stream",
     "text": [
      "['python', 'spss']\n"
     ]
    }
   ],
   "source": [
    "print(student['skills'])"
   ]
  },
  {
   "cell_type": "code",
   "execution_count": 36,
   "metadata": {},
   "outputs": [
    {
     "data": {
      "text/plain": [
       "list"
      ]
     },
     "execution_count": 36,
     "metadata": {},
     "output_type": "execute_result"
    }
   ],
   "source": [
    "type(student['skills'])"
   ]
  },
  {
   "cell_type": "code",
   "execution_count": 38,
   "metadata": {},
   "outputs": [
    {
     "name": "stdout",
     "output_type": "stream",
     "text": [
      "{'first_name': 'mujahid', 'last_name': 'nasir', 'gender': 'male', 'age': 26, 'marital status': 'single', 'skills': ['python', 'spss'], 'country': 'nigeria', 'city': 'kano', 'address': 'mariri', 'passion': 'researcher', 'hobby': 'football'}\n"
     ]
    }
   ],
   "source": [
    "student['passion'] = 'researcher'\n",
    "student['hobby'] = 'football'\n",
    "print(student)"
   ]
  },
  {
   "cell_type": "code",
   "execution_count": 43,
   "metadata": {},
   "outputs": [
    {
     "name": "stdout",
     "output_type": "stream",
     "text": [
      "<built-in method keys of dict object at 0x0000024BCDDCC140>\n"
     ]
    }
   ],
   "source": [
    "student = {'first_name': 'mujahid', 'last_name': 'nasir', 'gender':'male', 'age': 26, 'marital status': 'single', 'skills': ['python', 'spss'],  'country': 'nigeria', 'city': 'kano', 'address': 'mariri'}\n",
    "keys = student.keys\n",
    "print(keys)"
   ]
  },
  {
   "cell_type": "code",
   "execution_count": 47,
   "metadata": {},
   "outputs": [
    {
     "name": "stdout",
     "output_type": "stream",
     "text": [
      "<built-in method values of dict object at 0x0000024BCDDD1E80>\n"
     ]
    }
   ],
   "source": [
    "student = {'first_name': 'mujahid', 'last_name': 'nasir', 'gender':'male', 'age': 26, 'marital status': 'single', 'skills': ['python', 'spss'],  'country': 'nigeria', 'city': 'kano', 'address': 'mariri'}\n",
    "values = student.values\n",
    "print(values)"
   ]
  },
  {
   "cell_type": "code",
   "execution_count": 48,
   "metadata": {},
   "outputs": [
    {
     "name": "stdout",
     "output_type": "stream",
     "text": [
      "dict_items([('first_name', 'mujahid'), ('last_name', 'nasir'), ('gender', 'male'), ('age', 26), ('marital status', 'single'), ('skills', ['python', 'spss']), ('country', 'nigeria'), ('city', 'kano'), ('address', 'mariri')])\n"
     ]
    }
   ],
   "source": [
    "student = {'first_name': 'mujahid', 'last_name': 'nasir', 'gender':'male', 'age': 26, 'marital status': 'single', 'skills': ['python', 'spss'],  'country': 'nigeria', 'city': 'kano', 'address': 'mariri'}\n",
    "print(student.items())"
   ]
  },
  {
   "cell_type": "code",
   "execution_count": 4,
   "metadata": {},
   "outputs": [
    {
     "name": "stdout",
     "output_type": "stream",
     "text": [
      "{'first_name': 'mujahid', 'gender': 'male', 'age': 26, 'marital status': 'single', 'skills': ['python', 'spss'], 'country': 'nigeria', 'city': 'kano', 'address': 'mariri'}\n"
     ]
    }
   ],
   "source": [
    "student = {'first_name': 'mujahid', 'last_name': 'nasir', 'gender':'male', 'age': 26, 'marital status': 'single', 'skills': ['python', 'spss'],  'country': 'nigeria', 'city': 'kano', 'address': 'mariri'}\n",
    "del student ['last_name']\n",
    "print(student)"
   ]
  },
  {
   "cell_type": "code",
   "execution_count": 8,
   "metadata": {},
   "outputs": [
    {
     "name": "stdout",
     "output_type": "stream",
     "text": [
      "None\n"
     ]
    }
   ],
   "source": [
    "student = {'first_name': 'mujahid', 'last_name': 'nasir', 'gender':'male', 'age': 26, 'marital status': 'single', 'skills': ['python', 'spss'],  'country': 'nigeria', 'city': 'kano', 'address': 'mariri'}\n",
    "\n",
    "print(student.clear())"
   ]
  }
 ],
 "metadata": {
  "kernelspec": {
   "display_name": "Python 3",
   "language": "python",
   "name": "python3"
  },
  "language_info": {
   "codemirror_mode": {
    "name": "ipython",
    "version": 3
   },
   "file_extension": ".py",
   "mimetype": "text/x-python",
   "name": "python",
   "nbconvert_exporter": "python",
   "pygments_lexer": "ipython3",
   "version": "3.13.0"
  }
 },
 "nbformat": 4,
 "nbformat_minor": 2
}
