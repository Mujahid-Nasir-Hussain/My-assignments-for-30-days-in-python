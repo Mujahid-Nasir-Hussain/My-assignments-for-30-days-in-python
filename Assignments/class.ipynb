{
 "cells": [
  {
   "cell_type": "markdown",
   "metadata": {},
   "source": [
    "# CLASSES"
   ]
  },
  {
   "cell_type": "markdown",
   "metadata": {},
   "source": [
    "# EXERCISE_1"
   ]
  },
  {
   "cell_type": "code",
   "execution_count": null,
   "metadata": {},
   "outputs": [
    {
     "name": "stdout",
     "output_type": "stream",
     "text": [
      "Count: 25\n",
      "Sum: 744\n",
      "Min: 24\n",
      "Max: 38\n",
      "Range: 14\n",
      "Mean: 29.76\n",
      "Median: 29\n",
      "Mode: [26]\n",
      "Standard Deviation: 4.188364836066696\n",
      "Variance: 17.5424\n",
      "Frequency Distribution: {31: 2, 26: 5, 34: 2, 37: 2, 27: 4, 32: 3, 24: 2, 33: 2, 25: 1, 38: 1, 29: 1}\n"
     ]
    }
   ],
   "source": [
    "class Statistics:\n",
    "    def __init__(self, data):\n",
    "        self.data = data\n",
    "\n",
    "    def mean(self):\n",
    "        return sum(self.data) / len(self.data)\n",
    "\n",
    "    def median(self):\n",
    "        sorted_data = sorted(self.data)\n",
    "        n = len(sorted_data)\n",
    "        mid = n // 2\n",
    "        if n % 2 == 0:\n",
    "            return (sorted_data[mid - 1] + sorted_data[mid]) / 2\n",
    "        else:\n",
    "            return sorted_data[mid]\n",
    "\n",
    "    def mode(self):\n",
    "        from collections import Counter\n",
    "        data_count = Counter(self.data)\n",
    "        max_count = max(data_count.values())\n",
    "        modes = [key for key, value in data_count.items() if value == max_count]\n",
    "        if len(modes) == len(self.data):\n",
    "            return None  \n",
    "        return modes\n",
    "\n",
    "    def range(self):\n",
    "        return max(self.data) - min(self.data)\n",
    "\n",
    "    def variance(self):\n",
    "        mean_value = self.mean()\n",
    "        return sum((x - mean_value) ** 2 for x in self.data) / len(self.data)\n",
    "\n",
    "    def standard_deviation(self):\n",
    "        return self.variance() ** 0.5\n",
    "\n",
    "    def min(self):\n",
    "        return min(self.data)\n",
    "\n",
    "    def max(self):\n",
    "        return max(self.data)\n",
    "\n",
    "    def count(self):\n",
    "        return len(self.data)\n",
    "    def sum(self):\n",
    "        return sum(self.data)\n",
    "\n",
    "    def frequency_distribution(self):\n",
    "        from collections import Counter\n",
    "        return dict(Counter(self.data))\n",
    "    age = [31, 26, 34, 37, 27, 26, 32, 32, 26, 27, 27, 24, 32, 33, 27, 25, 26, 38, 37, 31, 34, 24, 33, 29, 26]\n",
    "    stats = Statistics(age)\n",
    "\n",
    "    \n",
    "    print(\"Count:\", stats.count())\n",
    "    print(\"Sum:\", stats.sum())\n",
    "    print(\"Min:\", stats.min())\n",
    "    print(\"Max:\", stats.max())\n",
    "    print(\"Range:\", stats.range())\n",
    "    print(\"Mean:\", stats.mean())\n",
    "    print(\"Median:\", stats.median())\n",
    "    print(\"Mode:\", stats.mode())\n",
    "    print(\"Standard Deviation:\", stats.standard_deviation())\n",
    "    print(\"Variance:\", stats.variance())\n",
    "    print(\"Frequency Distribution:\", stats.frequency_distribution())\n"
   ]
  },
  {
   "cell_type": "markdown",
   "metadata": {},
   "source": [
    "# EXERCISE_2"
   ]
  },
  {
   "cell_type": "code",
   "execution_count": 21,
   "metadata": {},
   "outputs": [
    {
     "name": "stdout",
     "output_type": "stream",
     "text": [
      "Account holder: Mujahid Nasir\n",
      "Total Income: 3500\n",
      "Total Expense: 1200\n",
      "Balance: 2300\n"
     ]
    }
   ],
   "source": [
    "class PersonAccount:\n",
    "    def __init__(self, firstname, lastname):\n",
    "        self.firstname = firstname\n",
    "        self.lastname = lastname\n",
    "        self.incomes = []  \n",
    "        self.expenses = []\n",
    "\n",
    "    def total_income(self):\n",
    "        return sum(amount for amount, _ in self.incomes)\n",
    "\n",
    "    def total_expense(self):\n",
    "        return sum(amount for amount, _ in self.expenses)\n",
    "\n",
    "    def account_info(self):\n",
    "        return f\"Account holder: {self.firstname} {self.lastname}\\nTotal Income: {self.total_income()}\\nTotal Expense: {self.total_expense()}\\nBalance: {self.account_balance()}\"\n",
    "\n",
    "    def add_income(self, amount, description):\n",
    "        self.incomes.append((amount, description))\n",
    "\n",
    "    def add_expense(self, amount, description):\n",
    "        self.expenses.append((amount, description))\n",
    "\n",
    "    def account_balance(self):\n",
    "        return self.total_income() - self.total_expense()\n",
    "\n",
    "    account = PersonAccount(\"Mujahid\", \"Nasir\")\n",
    "\n",
    "    account.add_income(3000, \"Salary\")\n",
    "    account.add_income(500, \"Freelance work\")\n",
    "    account.add_expense(1000, \"Rent\")\n",
    "    account.add_expense(200, \"Groceries\")\n",
    "\n",
    "    print(account.account_info())"
   ]
  }
 ],
 "metadata": {
  "kernelspec": {
   "display_name": "Python 3",
   "language": "python",
   "name": "python3"
  },
  "language_info": {
   "codemirror_mode": {
    "name": "ipython",
    "version": 3
   },
   "file_extension": ".py",
   "mimetype": "text/x-python",
   "name": "python",
   "nbconvert_exporter": "python",
   "pygments_lexer": "ipython3",
   "version": "3.13.0"
  }
 },
 "nbformat": 4,
 "nbformat_minor": 2
}
