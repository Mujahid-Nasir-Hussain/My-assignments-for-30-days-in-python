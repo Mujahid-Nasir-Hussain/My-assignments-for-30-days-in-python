{
 "cells": [
  {
   "cell_type": "markdown",
   "metadata": {},
   "source": [
    "# CONDITIONAL_EXERCISES"
   ]
  },
  {
   "cell_type": "markdown",
   "metadata": {},
   "source": [
    "# EXERCISES : LEVEL_1"
   ]
  },
  {
   "cell_type": "code",
   "execution_count": 2,
   "metadata": {},
   "outputs": [
    {
     "name": "stdout",
     "output_type": "stream",
     "text": [
      "you are old enough to drive\n"
     ]
    }
   ],
   "source": [
    "user = 28\n",
    "if user >=18:\n",
    "    print('you are old enough to drive')\n",
    "elif user<26:\n",
    "    print('wait for the missing amount of years')"
   ]
  },
  {
   "cell_type": "code",
   "execution_count": 6,
   "metadata": {},
   "outputs": [
    {
     "name": "stdout",
     "output_type": "stream",
     "text": [
      "You are older than me\n"
     ]
    }
   ],
   "source": [
    "my_age = 30\n",
    "your_age = 25\n",
    "if my_age ==your_age:\n",
    "    print('I am older')\n",
    "else:\n",
    "    print('You are older than me')"
   ]
  },
  {
   "cell_type": "code",
   "execution_count": 20,
   "metadata": {},
   "outputs": [
    {
     "name": "stdout",
     "output_type": "stream",
     "text": [
      "4 is greater than 3\n"
     ]
    }
   ],
   "source": [
    "a= 4\n",
    "b = 3\n",
    "if a>b:\n",
    "    print('4 is greater than 3')\n",
    "elif a<b:\n",
    "    print('4 is smaller than 3')\n",
    "else:\n",
    "    print('4 is equal to 3')"
   ]
  },
  {
   "cell_type": "code",
   "execution_count": 4,
   "metadata": {},
   "outputs": [
    {
     "ename": "SyntaxError",
     "evalue": "invalid syntax. Perhaps you forgot a comma? (2358682764.py, line 8)",
     "output_type": "error",
     "traceback": [
      "\u001b[1;36m  Cell \u001b[1;32mIn[4], line 8\u001b[1;36m\u001b[0m\n\u001b[1;33m    print('The students grade is {'A'}'.)\u001b[0m\n\u001b[1;37m          ^\u001b[0m\n\u001b[1;31mSyntaxError\u001b[0m\u001b[1;31m:\u001b[0m invalid syntax. Perhaps you forgot a comma?\n"
     ]
    }
   ],
   "source": [
    "'A' == 80-100\n",
    "'B' == 70-79\n",
    "'C' == 60-69\n",
    "'D' == 50-59\n",
    "'E' == 40-49\n",
    "'F' == 0-39\n",
    "if 'A' == 80-100:\n",
    "    print('The students grade is {'A'}'.)\n",
    "elif 'B' == 70-79:\n",
    "    print('The students grade is{'B'}')\n",
    "elif 'C' == 60-69:\n",
    "    print('The students grade is{'C'}')\n",
    "elif 'D' == 50-59:\n",
    "    print('The students grade is{'D'}')\n",
    "elif 'E' == 40-49:\n",
    "    print('The students grade is{'E'}')\n",
    "elif 'F' == 0-39:\n",
    "    print('The students grade is{'F'}')"
   ]
  },
  {
   "cell_type": "code",
   "execution_count": 8,
   "metadata": {},
   "outputs": [],
   "source": [
    "def get_grade(score):\n",
    "    if 80 <= score <= 100:\n",
    "        print('A')\n",
    "    elif 70 <= score <= 79:\n",
    "        print('B')\n",
    "    elif 60 <= score <= 69:\n",
    "        print('C')\n",
    "    elif 50 <= score <= 59:\n",
    "        print('D')\n",
    "    elif 40 <= score <= 49:\n",
    "        print('E')\n",
    "    elif 0 <= score <= 39:\n",
    "        print('F')\n",
    "    else:\n",
    "        print('Invalid score')"
   ]
  },
  {
   "cell_type": "code",
   "execution_count": 10,
   "metadata": {},
   "outputs": [
    {
     "name": "stdout",
     "output_type": "stream",
     "text": [
      "The student's grade is A.\n"
     ]
    }
   ],
   "source": [
    "def get_grade(score):\n",
    "    if 80 <= score <= 100:\n",
    "        return 'A'\n",
    "    elif 70 <= score <= 79:\n",
    "        return 'B'\n",
    "    elif 60 <= score <= 69:\n",
    "        return 'C'\n",
    "    elif 50 <= score <= 59:\n",
    "        return 'D'\n",
    "    elif 40 <= score <= 49:\n",
    "        return 'E'\n",
    "    elif 0 <= score <= 39:\n",
    "        return 'F'\n",
    "    else:\n",
    "        return 'Invalid score'\n",
    "    score = int(input(85))\n",
    "\n",
    "grade = get_grade(85)\n",
    "if grade != 'Invalid score':\n",
    "    print(f\"The student's grade is {grade}.\")\n",
    "else:\n",
    "    print(\"Please enter a valid score between 0 and 100.\")"
   ]
  },
  {
   "cell_type": "code",
   "execution_count": 45,
   "metadata": {},
   "outputs": [
    {
     "name": "stdout",
     "output_type": "stream",
     "text": [
      "The season is: Invalid month\n"
     ]
    }
   ],
   "source": [
    "def get_season(month):\n",
    "    month = month.lower()\n",
    "    if month in [\"september\", \"october\", \"november\"]:\n",
    "        return \"Autumn\"\n",
    "    elif month in [\"december\", \"january\", \"february\"]:\n",
    "        return \"Winter\"\n",
    "    elif month in [\"march\", \"april\", \"may\"]:\n",
    "        return \"Spring\"\n",
    "    elif month in [\"june\", \"july\", \"august\"]:\n",
    "        return \"Summer\"\n",
    "    else:\n",
    "        return \"Invalid month\"\n",
    "\n",
    "# Input from the user\n",
    "month = input(\"Enter the month: \").strip()\n",
    "season = get_season(month)\n",
    "print(f\"The season is: {season}\")"
   ]
  },
  {
   "cell_type": "code",
   "execution_count": 8,
   "metadata": {},
   "outputs": [
    {
     "name": "stdout",
     "output_type": "stream",
     "text": [
      "['banana', 'orange', 'mango', 'lemon']\n",
      "['banana', 'mango', 'lemon', 'pineapple']\n"
     ]
    }
   ],
   "source": [
    "fruits = ['banana', 'orange', 'mango', 'lemon']\n",
    "print(fruits)\n",
    "fruits.append('pineapple')\n",
    "fruits.remove('orange')\n",
    "print(fruits)\n"
   ]
  },
  {
   "cell_type": "code",
   "execution_count": 30,
   "metadata": {},
   "outputs": [
    {
     "name": "stdout",
     "output_type": "stream",
     "text": [
      "That fruit already exists in the list.\n",
      "Updated list of fruits: ['banana', 'orange', 'mango', 'lemon']\n"
     ]
    }
   ],
   "source": [
    "fruits = ['banana', 'orange', 'mango', 'lemon']\n",
    "fruit = 'banana'\n",
    "if fruit in fruits:\n",
    "    print(\"That fruit already exists in the list.\")\n",
    "else:\n",
    "    fruits.append(fruit)\n",
    "    print(\"The fruit has been added to the list.\")\n",
    "print(\"Updated list of fruits:\", fruits)"
   ]
  },
  {
   "cell_type": "code",
   "execution_count": 32,
   "metadata": {},
   "outputs": [
    {
     "name": "stdout",
     "output_type": "stream",
     "text": [
      "The fruit has been added to the list.\n",
      "Updated list of fruits: ['banana', 'orange', 'mango', 'lemon', 'pineapple']\n"
     ]
    }
   ],
   "source": [
    "fruits = ['banana', 'orange', 'mango', 'lemon']\n",
    "fruit = 'pineapple'\n",
    "if fruit in fruits:\n",
    "    print(\"That fruit already exists in the list.\")\n",
    "else:\n",
    "    fruits.append(fruit)\n",
    "    print(\"The fruit has been added to the list.\")\n",
    "print(\"Updated list of fruits:\", fruits)"
   ]
  },
  {
   "cell_type": "code",
   "execution_count": 3,
   "metadata": {},
   "outputs": [
    {
     "name": "stdout",
     "output_type": "stream",
     "text": [
      "The middle skill is: Node\n",
      "Does the person have Python skill? True\n",
      "He is a backend developer\n",
      "Asabeneh Yetayeh is married and lives in Finland.\n"
     ]
    }
   ],
   "source": [
    "person = {\n",
    "    'first_name': 'Asabeneh',\n",
    "    'last_name': 'Yetayeh',\n",
    "    'age': 250,\n",
    "    'country': 'Finland',\n",
    "    'is_marred': True,\n",
    "    'skills': ['JavaScript', 'React', 'Node', 'MongoDB', 'Python'],\n",
    "    'address': {'street': 'Space street', 'zipcode': '02210'}\n",
    "}\n",
    "\n",
    "# Check if the person dictionary has the 'skills' key\n",
    "if 'skills' in person:\n",
    "    # Print the middle skill in the skills list\n",
    "    skills = person['skills']\n",
    "    middle_skill = skills[len(skills) // 2]\n",
    "    print(f\"The middle skill is: {middle_skill}\")\n",
    "\n",
    "    # Check if the person has 'Python' skill\n",
    "    has_python = 'Python' in skills\n",
    "    print(f\"Does the person have Python skill? {has_python}\")\n",
    "\n",
    "    # Determine the type of developer\n",
    "    if set(skills) == {'JavaScript', 'React'}:\n",
    "        print(\"He is a front end developer\")\n",
    "    elif {'Node', 'Python', 'MongoDB'}.issubset(skills):\n",
    "        print(\"He is a backend developer\")\n",
    "    elif {'React', 'Node', 'MongoDB'}.issubset(skills):\n",
    "        print(\"He is a fullstack developer\")\n",
    "    else:\n",
    "        print(\"unknown title\")\n",
    "\n",
    "# Check if the person is married and lives in Finland\n",
    "if person['is_marred'] and person['country'] == 'Finland':\n",
    "    print(f\"{person['first_name']} {person['last_name']} is married and lives in {person['country']}.\")\n"
   ]
  }
 ],
 "metadata": {
  "kernelspec": {
   "display_name": "venv",
   "language": "python",
   "name": "python3"
  },
  "language_info": {
   "codemirror_mode": {
    "name": "ipython",
    "version": 3
   },
   "file_extension": ".py",
   "mimetype": "text/x-python",
   "name": "python",
   "nbconvert_exporter": "python",
   "pygments_lexer": "ipython3",
   "version": "3.12.7"
  }
 },
 "nbformat": 4,
 "nbformat_minor": 2
}
